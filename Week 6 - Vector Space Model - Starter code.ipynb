{
 "cells": [
  {
   "cell_type": "markdown",
   "metadata": {},
   "source": [
    "# Week 5 - Vector Space Model (VSM) and Topic Modeling"
   ]
  },
  {
   "cell_type": "markdown",
   "metadata": {},
   "source": [
    "Over the next weeks, we are going to re-implement Sherin's algorithm and apply it to the text data we've been working on last week! Here's our roadmap:\n",
    "\n",
    "**Week 6 - vectorization and linear algebra**\n",
    "6. Dampen: weight the frequency of words (1 + log[count])\n",
    "7. Scale: Normalize weighted frequency of words\n",
    "8. Direction: compute deviation vectors\n",
    "\n",
    "**Week 7 - Clustering**\n",
    "9. apply different unsupervised machine learning algorithms\n",
    "    * figure out how many clusters we want to keep\n",
    "    * inspect the results of the clustering algorithm\n",
    "\n",
    "**Week 8 - Visualizing the results**\n",
    "10. create visualizations to compare documents"
   ]
  },
  {
   "cell_type": "markdown",
   "metadata": {},
   "source": [
    "# WEEK 5 - DATA CLEANING"
   ]
  },
  {
   "cell_type": "markdown",
   "metadata": {},
   "source": [
    "## Step 1 - Data Retrieval"
   ]
  },
  {
   "cell_type": "code",
   "execution_count": 45,
   "metadata": {},
   "outputs": [
    {
     "name": "stdout",
     "output_type": "stream",
     "text": [
      "['../week5-vsm-1-ghcsung/Papers\\\\paper0.txt', '../week5-vsm-1-ghcsung/Papers\\\\paper1.txt', '../week5-vsm-1-ghcsung/Papers\\\\paper10.txt', '../week5-vsm-1-ghcsung/Papers\\\\paper11.txt', '../week5-vsm-1-ghcsung/Papers\\\\paper12.txt', '../week5-vsm-1-ghcsung/Papers\\\\paper13.txt', '../week5-vsm-1-ghcsung/Papers\\\\paper14.txt', '../week5-vsm-1-ghcsung/Papers\\\\paper15.txt', '../week5-vsm-1-ghcsung/Papers\\\\paper16.txt', '../week5-vsm-1-ghcsung/Papers\\\\paper2.txt', '../week5-vsm-1-ghcsung/Papers\\\\paper3.txt', '../week5-vsm-1-ghcsung/Papers\\\\paper4.txt', '../week5-vsm-1-ghcsung/Papers\\\\paper5.txt', '../week5-vsm-1-ghcsung/Papers\\\\paper6.txt', '../week5-vsm-1-ghcsung/Papers\\\\paper7.txt', '../week5-vsm-1-ghcsung/Papers\\\\paper8.txt', '../week5-vsm-1-ghcsung/Papers\\\\paper9.txt']\n"
     ]
    }
   ],
   "source": [
    "# using glob, find all the text files in the \"Papers\" folder\n",
    "import glob\n",
    "\n",
    "files = glob.glob('../week5-vsm-1-ghcsung/Papers/*.txt')\n",
    "print(files)"
   ]
  },
  {
   "cell_type": "code",
   "execution_count": 46,
   "metadata": {
    "collapsed": true
   },
   "outputs": [],
   "source": [
    "# get all the data from the text files into the \"documents\" list\n",
    "# P.S. make sure you use the 'utf-8' encoding\n",
    "documents = []\n",
    "\n",
    "for filename in files: \n",
    "    with open (filename, \"r\", encoding='utf-8') as f:\n",
    "        documents.append(f.read())"
   ]
  },
  {
   "cell_type": "code",
   "execution_count": 47,
   "metadata": {},
   "outputs": [
    {
     "data": {
      "text/plain": [
       "'\\x0czone out no more: mitigating mind wandering during\\ncomputerized reading\\nsidney k. d’mello, caitlin mills, robert bixler, & nigel bosch\\nuniversity of notre dame\\n118 haggar hall\\nnotre dame, in 46556, usa\\nsdmello@nd.edu\\n\\nabstract\\nmind wandering, defined as shifts in attention from task-related\\nprocessing to task-unrelated thoughts, is a ubiquitous\\nphenomenon that has a negative influence on performance and\\nproductivity in many contexts, including learning. we propose\\nthat next-generation learning technologies should have some\\nmechanism to detect and respond to mind wandering in real-time.\\ntowards this end, we developed a technology that automatically\\ndetects mind wandering from eye-gaze during learning from\\ninstructional texts. when mind wandering is detected, the\\ntechnology intervenes by posing just-in-time questions and\\nencouraging re-reading as needed. after multiple rounds of\\niterative refinement, we summatively compared the technology to\\na yoked-control in an experiment with 104 participants. the key\\ndependent variable was performance on a post-reading\\ncomprehension assessment. our results suggest that the\\ntechnology was successful in correcting comprehension deficits\\nattributed to mind wandering (d = .47 sigma) under specific\\nconditions, thereby highlighting the potential to improve learning\\nby “attending to attention.”\\n\\nkeywords\\nmind wandering; gaze tracking; student modeling; attentionaware.\\n\\n1. introduction\\ndespite our best efforts to write a clear and engaging paper,\\n'"
      ]
     },
     "execution_count": 47,
     "metadata": {},
     "output_type": "execute_result"
    }
   ],
   "source": [
    "# print the first 1000 characters of the first document to see what it \n",
    "# looks like (we'll use this as a sanity check below)\n",
    "documents[0][:1500]"
   ]
  },
  {
   "cell_type": "markdown",
   "metadata": {},
   "source": [
    "## Step 2 - Data Cleaning"
   ]
  },
  {
   "cell_type": "code",
   "execution_count": 48,
   "metadata": {},
   "outputs": [
    {
     "name": "stdout",
     "output_type": "stream",
     "text": [
      "50043 39318\n",
      "41110 35514\n",
      "49177 42621\n",
      "32277 28206\n",
      "40387 34778\n",
      "45258 42251\n",
      "40655 32734\n",
      "31574 28134\n",
      "42046 37649\n",
      "46761 42253\n",
      "47377 42978\n",
      "44037 40032\n",
      "37214 32762\n",
      "47851 41302\n",
      "42617 35102\n",
      "45724 39947\n",
      "47845 44059\n"
     ]
    }
   ],
   "source": [
    "# only select the text that's between the first occurence of the \n",
    "# the word \"abstract\" and the last occurence of the word \"reference\"\n",
    "# Optional: print the length of the string before and after, as a \n",
    "# sanity check\n",
    "# HINT: https://stackoverflow.com/questions/14496006/finding-last-occurrence-of-substring-in-string-replacing-that\n",
    "# read more about rfind: https://www.tutorialspoint.com/python/string_rfind.htm\n",
    "\n",
    "for i,doc in enumerate(documents):\n",
    "    print(len(documents[i]), end=' ')\n",
    "    # only keep the text after the abstract\n",
    "    doc = doc[doc.index('abstract'):doc.rfind('reference')]\n",
    "    # save the result\n",
    "    documents[i] = doc\n",
    "    # print the length of the resulting string\n",
    "    print(len(documents[i]))\n",
    "    \n",
    "# one liner:\n",
    "# documents = [doc[doc.index('abstract'):doc.rfind('reference')] for doc in documents]"
   ]
  },
  {
   "cell_type": "code",
   "execution_count": 49,
   "metadata": {},
   "outputs": [
    {
     "name": "stdout",
     "output_type": "stream",
     "text": [
      "abstract mind wandering, defined as shifts in attention from task-related processing to task-unrelated thoughts, is a ubiquitous phenomenon that has a negative influence on performance and productivity in many contexts, including learning. we propose that next-generation learning technologies should have some mechanism to detect and respond to mind wandering in real-time. towards this end, we developed a technology that automatically detects mind wandering from eye-gaze during learning from instructional texts. when mind wandering is detected, the technology intervenes by posing just-in-time questions and encouraging re-reading as needed. after multiple rounds of iterative refinement, we summatively compared the technology to a yoked-control in an experiment with 104 participants. the key dependent variable was performance on a post-reading comprehension assessment. our results suggest that the technology was successful in correcting comprehension deficits attributed to mind wandering \n"
     ]
    }
   ],
   "source": [
    "# replace carriage returns (i.e., \"\\n\") with a white space\n",
    "# check that the result looks okay by printing the \n",
    "# first 1000 characters of the 1st doc:\n",
    "\n",
    "documents = [doc.replace('\\n', ' ') for doc in documents]\n",
    "print(documents[0][:1000])"
   ]
  },
  {
   "cell_type": "code",
   "execution_count": 6,
   "metadata": {},
   "outputs": [
    {
     "name": "stdout",
     "output_type": "stream",
     "text": [
      "abstract mind wandering  defined as shifts in attention from task related processing to task unrelated thoughts  is a ubiquitous phenomenon that has a negative influence on performance and productivity in many contexts  including learning  we propose that next generation learning technologies should have some mechanism to detect and respond to mind wandering in real time  towards this end  we developed a technology that automatically detects mind wandering from eye gaze during learning from instructional texts  when mind wandering is detected  the technology intervenes by posing just in time questions and encouraging re reading as needed  after multiple rounds of iterative refinement  we summatively compared the technology to a yoked control in an experiment with 104 participants  the key dependent variable was performance on a post reading comprehension assessment  our results suggest that the technology was successful in correcting comprehension deficits attributed to mind wandering \n"
     ]
    }
   ],
   "source": [
    "# replace the punctation below by a white space\n",
    "# check that the result looks okay \n",
    "# (e.g., by print the first 1000 characters of the 1st doc)\n",
    "\n",
    "punctuation = ['.', '...', '!', '#', '\"', '%', '$', \"'\", '&', ')', \n",
    "               '(', '+', '*', '-', ',', '/', '.', ';', ':', '=', \n",
    "               '<', '?', '>', '@', '\",', '\".', '[', ']', '\\\\', ',',\n",
    "               '_', '^', '`', '{', '}', '|', '~', '−', '”', '“', '’']\n",
    "\n",
    "\n",
    "# remove ponctuation\n",
    "for i,doc in enumerate(documents): \n",
    "    for punc in punctuation: \n",
    "        doc = doc.replace(punc, ' ')\n",
    "    documents[i] = doc\n",
    "    \n",
    "print(documents[0][:1000])"
   ]
  },
  {
   "cell_type": "code",
   "execution_count": 50,
   "metadata": {},
   "outputs": [
    {
     "name": "stdout",
     "output_type": "stream",
     "text": [
      "abstract educational systems typically contain a large pool of items (questions, problems). using data mining techniques we can group these items into knowledge components, detect duplicated items and outliers, and identify missing items. to these ends, it is useful to analyze item similarities, which can be used as input to clustering or visualization techniques. we describe and evaluate different measures of item similarity that are based only on learners’ performance data, which makes them widely applicable. we provide evaluation using both simulated data and real data from several educational systems. the results show that pearson correlation is a suitable similarity measure and that response times are useful for improving stability of similarity measures when the scope of available data is small.  . introduction interactive educational systems offer learners items (problems, questions) for solving. realistic educational systems typically contain a large number of such items. this \n"
     ]
    }
   ],
   "source": [
    "# remove numbers by either a white space or the word \"number\"\n",
    "# again, print the first 1000 characters of the first document\n",
    "# to check that you're doing the right thing\n",
    "for i,doc in enumerate(documents): \n",
    "    for num in range(10):\n",
    "        doc = doc.replace(str(num), '')\n",
    "    documents[i] = doc\n",
    "\n",
    "print(documents[1][:1000])"
   ]
  },
  {
   "cell_type": "code",
   "execution_count": 51,
   "metadata": {},
   "outputs": [
    {
     "name": "stdout",
     "output_type": "stream",
     "text": [
      "abstract mind wandering, defined shifts attention task-related processing task-unrelated thoughts, ubiquitous phenomenon negative influence performance productivity many contexts, including learning. propose next-generation learning technologies mechanism detect respond mind wandering real-time. towards end, developed technology automatically detects mind wandering eye-gaze learning instructional texts. mind wandering detected, technology intervenes posing just-in-time questions encouraging re-reading needed. multiple rounds iterative refinement, summatively compared technology yoked-control experiment  participants. key dependent variable performance post-reading comprehension assessment. results suggest technology successful correcting comprehension deficits attributed mind wandering (d = . sigma) specific conditions, thereby highlighting potential improve learning “attending attention.”  keywords mind wandering; gaze tracking; student modeling; attentionaware.  . introduction despit\n"
     ]
    }
   ],
   "source": [
    "# Remove the stop words below from our documents\n",
    "# print the first 1000 characters of the first document\n",
    "stop_words = ['i', 'me', 'my', 'myself', 'we', 'our', 'ours', \n",
    "              'ourselves', 'you', 'your', 'yours', 'yourself', \n",
    "              'yourselves', 'he', 'him', 'his', 'himself', 'she', \n",
    "              'her', 'hers', 'herself', 'it', 'its', 'itself', \n",
    "              'they', 'them', 'their', 'theirs', 'themselves', \n",
    "              'what', 'which', 'who', 'whom', 'this', 'that', \n",
    "              'these', 'those', 'am', 'is', 'are', 'was', 'were', \n",
    "              'be', 'been', 'being', 'have', 'has', 'had', 'having', \n",
    "              'do', 'does', 'did', 'doing', 'a', 'an', 'the', 'and', \n",
    "              'but', 'if', 'or', 'because', 'as', 'until', 'while', \n",
    "              'of', 'at', 'by', 'for', 'with', 'about', 'against', \n",
    "              'between', 'into', 'through', 'during', 'before', \n",
    "              'after', 'above', 'below', 'to', 'from', 'up', 'down', \n",
    "              'in', 'out', 'on', 'off', 'over', 'under', 'again', \n",
    "              'further', 'then', 'once', 'here', 'there', 'when', \n",
    "              'where', 'why', 'how', 'all', 'any', 'both', 'each', \n",
    "              'few', 'more', 'most', 'other', 'some', 'such', 'no', \n",
    "              'nor', 'not', 'only', 'own', 'same', 'so', 'than', \n",
    "              'too', 'very', 's', 't', 'can', 'will', \n",
    "              'just', 'don', 'should', 'now']\n",
    "\n",
    "\n",
    "# remove stop words\n",
    "for i,doc in enumerate(documents):\n",
    "    for stop_word in stop_words:\n",
    "        doc = doc.replace(' ' + stop_word + ' ', ' ')\n",
    "    documents[i] = doc\n",
    "\n",
    "print(documents[0][:1000])"
   ]
  },
  {
   "cell_type": "code",
   "execution_count": 52,
   "metadata": {},
   "outputs": [
    {
     "name": "stdout",
     "output_type": "stream",
     "text": [
      "abstract mind wandering, defined shifts attention task-related processing task-unrelated thoughts, ubiquitous phenomenon negative influence performance productivity many contexts, including learning. propose next-generation learning technologies mechanism detect respond mind wandering real-time. towards end, developed technology automatically detects mind wandering eye-gaze learning instructional texts. mind wandering detected, technology intervenes posing just-in-time questions encouraging re-reading needed. multiple rounds iterative refinement, summatively compared technology yoked-control experiment participants. key dependent variable performance post-reading comprehension assessment. results suggest technology successful correcting comprehension deficits attributed mind wandering sigma) specific conditions, thereby highlighting potential improve learning “attending attention.” keywords mind wandering; gaze tracking; student modeling; attentionaware. introduction despite best effor\n"
     ]
    }
   ],
   "source": [
    "# remove words with one and two characters (e.g., 'd', 'er', etc.)\n",
    "# print the first 1000 characters of the first document\n",
    "\n",
    "for i,doc in enumerate(documents):  \n",
    "    doc = [x for x in doc.split() if len(x) > 2]\n",
    "    doc = \" \".join(doc)\n",
    "    documents[i] = doc\n",
    "\n",
    "print(documents[0][:1000])"
   ]
  },
  {
   "cell_type": "markdown",
   "metadata": {},
   "source": [
    "\n",
    "### Putting it all together"
   ]
  },
  {
   "cell_type": "code",
   "execution_count": 10,
   "metadata": {
    "collapsed": true
   },
   "outputs": [],
   "source": [
    "# package all of your work above into a function that cleans a given document\n",
    "\n",
    "def clean_list_of_documents(documents):\n",
    "    \n",
    "    cleaned_docs = []\n",
    "\n",
    "    for i,doc in enumerate(documents):\n",
    "        # only keep the text after the abstract\n",
    "        doc = doc[doc.index('abstract'):]\n",
    "        # only keep the text before the references\n",
    "        doc = doc[:doc.rfind('reference')]\n",
    "        # replace return carriage with white space\n",
    "        doc = doc.replace('\\n', ' ')\n",
    "        # remove ponctuation\n",
    "        for punc in punctuation: \n",
    "            doc = doc.replace(punc, ' ')\n",
    "        # remove numbers\n",
    "        for i in range(10):\n",
    "            doc = doc.replace(str(i), ' ')\n",
    "        # remove stop words\n",
    "        for stop_word in stop_words:\n",
    "            doc = doc.replace(' ' + stop_word + ' ', ' ')\n",
    "        # remove single characters and stem the words \n",
    "        doc = [x for x in doc.split() if len(x) > 2]\n",
    "        doc = \" \".join(doc)\n",
    "        # save the result to our list of documents\n",
    "        cleaned_docs.append(doc)\n",
    "        \n",
    "    return cleaned_docs"
   ]
  },
  {
   "cell_type": "code",
   "execution_count": 53,
   "metadata": {},
   "outputs": [
    {
     "name": "stdout",
     "output_type": "stream",
     "text": [
      "abstract mind wandering defined shifts attention task related processing task unrelated thoughts ubiquitous phenomenon negative influence performance productivity many contexts including learning propose next generation learning technologies mechanism detect respond mind wandering real time towards end developed technology automatically detects mind wandering eye gaze learning instructional texts mind wandering detected technology intervenes posing time questions encouraging reading needed multiple rounds iterative refinement summatively compared technology yoked control experiment participants key dependent variable performance post reading comprehension assessment results suggest technology successful correcting comprehension deficits attributed mind wandering sigma specific conditions thereby highlighting potential improve learning attending attention keywords mind wandering gaze tracking student modeling attentionaware introduction despite best efforts write clear engaging paper ch\n"
     ]
    }
   ],
   "source": [
    "# reimport your raw data\n",
    "documents = []\n",
    "\n",
    "for filename in files: \n",
    "    with open (filename, \"r\", encoding='utf-8') as f:\n",
    "        documents.append(f.read())\n",
    "        \n",
    "# clean your files using the function above\n",
    "docs = clean_list_of_documents(documents)\n",
    "\n",
    "# print the first 1000 characters of the first document\n",
    "print(docs[0][:1000])"
   ]
  },
  {
   "cell_type": "markdown",
   "metadata": {},
   "source": [
    "## Step 3 - Build your list of vocabulary"
   ]
  },
  {
   "cell_type": "markdown",
   "metadata": {},
   "source": [
    "This list of words (i.e., the vocabulary) is going to become the columns of your matrix."
   ]
  },
  {
   "cell_type": "code",
   "execution_count": 19,
   "metadata": {
    "collapsed": true
   },
   "outputs": [],
   "source": [
    "import math\n",
    "import numpy as np"
   ]
  },
  {
   "cell_type": "code",
   "execution_count": 54,
   "metadata": {},
   "outputs": [
    {
     "name": "stdout",
     "output_type": "stream",
     "text": [
      "5676\n"
     ]
    }
   ],
   "source": [
    "# create a function that takes in a list of documents\n",
    "# and returns a set of unique words. Make sure that you\n",
    "# sort the list alphabetically before returning it. \n",
    "\n",
    "def get_vocabulary(docs):\n",
    "    voc = []\n",
    "    for doc in docs:\n",
    "        for word in doc.split():\n",
    "            if word not in voc: \n",
    "                voc.append(word)\n",
    "    voc = list(set(voc))\n",
    "    voc.sort()\n",
    "    return voc\n",
    "\n",
    "# Then print the length of your vocabulary (it should be \n",
    "# around 5500 words)\n",
    "vocabulary = get_vocabulary(docs)\n",
    "print(len(vocabulary))"
   ]
  },
  {
   "cell_type": "markdown",
   "metadata": {},
   "source": [
    "## Step 4 - transform your documents in to 100-words chunks"
   ]
  },
  {
   "cell_type": "code",
   "execution_count": 55,
   "metadata": {
    "collapsed": true
   },
   "outputs": [],
   "source": [
    "# 15) create a function that takes in a list of documents\n",
    "# and returns a list of 100-words chunk \n",
    "# (with a 25 words overlap between them)\n",
    "# Optional: add two arguments, one for the number of words\n",
    "# in each chunk, and one for the overlap size\n",
    "# Advice: combining all the documents into one giant string\n",
    "# and splitting it into separate words will make your life easier!\n",
    "\n",
    "def flatten_and_overlap(docs, window_size=100, overlap=25):\n",
    "    \n",
    "    # create the list of overlapping documents\n",
    "    new_list_of_documents = []\n",
    "    \n",
    "    # flatten everything into one string\n",
    "    flat = \"\"\n",
    "    for doc in docs:\n",
    "        flat += doc\n",
    "    \n",
    "    # split into words\n",
    "    flat = flat.split()\n",
    "\n",
    "    # create chunks of 100 words\n",
    "    high = window_size\n",
    "    while high < len(flat):\n",
    "        low = high - window_size\n",
    "        new_list_of_documents.append(flat[low:high])\n",
    "        high += overlap\n",
    "    return new_list_of_documents\n",
    "\n",
    "chunks = flatten_and_overlap(docs)\n",
    "\n",
    "\n",
    "# def split_to_chunk(doc, length, overlap): \n",
    "#     # join documents into bigstring, split into words\n",
    "#     bigstring = ''\n",
    "#     for i in doc:\n",
    "#         bigstring += i\n",
    "#     words = bigstring.split(' ')\n",
    "    \n",
    "#     # create list of num-sized chunks with overlap\n",
    "#     chunks = []\n",
    "#     for i in range(0,len(words)-length+1, length - overlap):\n",
    "#         #print('len(words-length+1: ', len(words)-length+1, ' length-overlap: ',length-overlap)\n",
    "#         chunk = words[i:i+length]\n",
    "#         #print(len(chunk))\n",
    "#         chunks.append(chunk)\n",
    "#     return chunks\n",
    "        \n",
    "# #print(len(split_to_chunk(doc, 100, 25)))\n",
    "# chunked = split_to_chunk(doc,100,25)\n",
    "# chunked[0]"
   ]
  },
  {
   "cell_type": "code",
   "execution_count": 56,
   "metadata": {},
   "outputs": [
    {
     "name": "stdout",
     "output_type": "stream",
     "text": [
      "['abstract', 'mind', 'wandering', 'defined', 'shifts', 'attention', 'task', 'related', 'processing', 'task', 'unrelated', 'thoughts', 'ubiquitous', 'phenomenon', 'negative', 'influence', 'performance', 'productivity', 'many', 'contexts', 'including', 'learning', 'propose', 'next', 'generation', 'learning', 'technologies', 'mechanism', 'detect', 'respond', 'mind', 'wandering', 'real', 'time', 'towards', 'end', 'developed', 'technology', 'automatically', 'detects', 'mind', 'wandering', 'eye', 'gaze', 'learning', 'instructional', 'texts', 'mind', 'wandering', 'detected', 'technology', 'intervenes', 'posing', 'time', 'questions', 'encouraging', 'reading', 'needed', 'multiple', 'rounds', 'iterative', 'refinement', 'summatively', 'compared', 'technology', 'yoked', 'control', 'experiment', 'participants', 'key', 'dependent', 'variable', 'performance', 'post', 'reading', 'comprehension', 'assessment', 'results', 'suggest', 'technology', 'successful', 'correcting', 'comprehension', 'deficits', 'attributed', 'mind', 'wandering', 'sigma', 'specific', 'conditions', 'thereby', 'highlighting', 'potential', 'improve', 'learning', 'attending', 'attention', 'keywords', 'mind', 'wandering']\n"
     ]
    }
   ],
   "source": [
    "# create a for loop to double check that each chunk has \n",
    "# a length of 100\n",
    "# Optional: use assert to do this check\n",
    "for chunk in chunks: \n",
    "    assert(len(chunk) == 100)\n",
    "print(chunks[0])"
   ]
  },
  {
   "cell_type": "markdown",
   "metadata": {},
   "source": [
    "# WEEK 6 - VECTOR MANIPULATION"
   ]
  },
  {
   "cell_type": "markdown",
   "metadata": {},
   "source": [
    "## Step 5 - Create a word by document matrix"
   ]
  },
  {
   "cell_type": "code",
   "execution_count": 86,
   "metadata": {
    "collapsed": true
   },
   "outputs": [],
   "source": [
    "# 1) create an empty dataframe using pandas\n",
    "# the number of rows should be the number of documents we have\n",
    "# the number of columns should be size of the vocabulary\n",
    "import pandas as pd\n",
    "df = pd.DataFrame(0,index = range(len(chunks)), columns = vocabulary)"
   ]
  },
  {
   "cell_type": "code",
   "execution_count": 83,
   "metadata": {},
   "outputs": [
    {
     "name": "stdout",
     "output_type": "stream",
     "text": [
      "   abstract  assessment  attending  attention  attributed  automatically  \\\n",
      "0         1           1          1          2           1              1   \n",
      "\n",
      "   compared  comprehension  conditions  contexts  ...    texts  thereby  \\\n",
      "0         1              2           1         1  ...        1        1   \n",
      "\n",
      "   thoughts  time  towards  ubiquitous  unrelated  variable  wandering  yoked  \n",
      "0         1     2        1           1          1         1          6      1  \n",
      "\n",
      "[1 rows x 78 columns]\n"
     ]
    }
   ],
   "source": [
    "# len(vocabulary)\n",
    "# len(chunks)\n",
    "df.columns\n",
    "df_test = df.from_dict(dict.fromkeys(chunks[0], [0]))\n",
    "for word in chunks[0]:\n",
    "    if word in list(df.columns):\n",
    "        df_test.loc[0,word] += 1\n",
    "print(df_test)\n"
   ]
  },
  {
   "cell_type": "code",
   "execution_count": 87,
   "metadata": {},
   "outputs": [
    {
     "name": "stdout",
     "output_type": "stream",
     "text": [
      "0 100 200 300 400 500 600 700 800 900 1000 1100 1200 1300 1400 1500 1600 1700 1800 1900 2000 2100 2200 "
     ]
    }
   ],
   "source": [
    "# 2) fill out the dataframe with the count of words for each document\n",
    "# (use two for loops to iterate through the documents and the vocabulary)\n",
    "for i, chunk in enumerate(chunks):\n",
    "    for word in chunk:\n",
    "        if word in list(df.columns):\n",
    "        #print(word)\n",
    "            df.loc[i, word] += 1\n",
    "        #count = chunk.count(word) ];\n",
    "        #df.loc[i, word] = count\n",
    "    if i % 100 == 0:\n",
    "        print(i, end=' ')\n",
    "        "
   ]
  },
  {
   "cell_type": "code",
   "execution_count": 99,
   "metadata": {},
   "outputs": [
    {
     "data": {
      "text/plain": [
       "2455"
      ]
     },
     "execution_count": 99,
     "metadata": {},
     "output_type": "execute_result"
    }
   ],
   "source": [
    "# 3) Sanity check: make sure that your counts are correct\n",
    "# (e.g., if you know that a words appears often in a document, check that\n",
    "# the number is also high in your dataframe; and vice-versa for low counts)\n",
    "sum(df.learning)\n"
   ]
  },
  {
   "cell_type": "code",
   "execution_count": 96,
   "metadata": {},
   "outputs": [
    {
     "ename": "KeyboardInterrupt",
     "evalue": "",
     "output_type": "error",
     "traceback": [
      "\u001b[1;31m---------------------------------------------------------------------------\u001b[0m",
      "\u001b[1;31mKeyboardInterrupt\u001b[0m                         Traceback (most recent call last)",
      "\u001b[1;32m<ipython-input-96-acb8d67521d5>\u001b[0m in \u001b[0;36m<module>\u001b[1;34m()\u001b[0m\n\u001b[0;32m     13\u001b[0m \u001b[1;33m\u001b[0m\u001b[0m\n\u001b[0;32m     14\u001b[0m \u001b[1;31m# call the function and check that the resulting dataframe is correct\u001b[0m\u001b[1;33m\u001b[0m\u001b[1;33m\u001b[0m\u001b[0m\n\u001b[1;32m---> 15\u001b[1;33m \u001b[0mresult\u001b[0m \u001b[1;33m=\u001b[0m \u001b[0mcreate_wordfreq_df\u001b[0m\u001b[1;33m(\u001b[0m\u001b[0mchunks\u001b[0m\u001b[1;33m,\u001b[0m \u001b[0mvocabulary\u001b[0m\u001b[1;33m)\u001b[0m\u001b[1;33m\u001b[0m\u001b[0m\n\u001b[0m",
      "\u001b[1;32m<ipython-input-96-acb8d67521d5>\u001b[0m in \u001b[0;36mcreate_wordfreq_df\u001b[1;34m(documents, vocabulary)\u001b[0m\n\u001b[0;32m      7\u001b[0m     \u001b[1;32mfor\u001b[0m \u001b[0mi\u001b[0m\u001b[1;33m,\u001b[0m \u001b[0mchunk\u001b[0m \u001b[1;32min\u001b[0m \u001b[0menumerate\u001b[0m\u001b[1;33m(\u001b[0m\u001b[0mchunks\u001b[0m\u001b[1;33m)\u001b[0m\u001b[1;33m:\u001b[0m\u001b[1;33m\u001b[0m\u001b[0m\n\u001b[0;32m      8\u001b[0m         \u001b[1;32mfor\u001b[0m \u001b[0mword\u001b[0m \u001b[1;32min\u001b[0m \u001b[0mchunk\u001b[0m\u001b[1;33m:\u001b[0m\u001b[1;33m\u001b[0m\u001b[0m\n\u001b[1;32m----> 9\u001b[1;33m             \u001b[1;32mif\u001b[0m \u001b[0mword\u001b[0m \u001b[1;32min\u001b[0m \u001b[0mlist\u001b[0m\u001b[1;33m(\u001b[0m\u001b[0mdf\u001b[0m\u001b[1;33m.\u001b[0m\u001b[0mcolumns\u001b[0m\u001b[1;33m)\u001b[0m\u001b[1;33m:\u001b[0m\u001b[1;33m\u001b[0m\u001b[0m\n\u001b[0m\u001b[0;32m     10\u001b[0m                 \u001b[0mdf\u001b[0m\u001b[1;33m.\u001b[0m\u001b[0mloc\u001b[0m\u001b[1;33m[\u001b[0m\u001b[0mi\u001b[0m\u001b[1;33m,\u001b[0m \u001b[0mword\u001b[0m\u001b[1;33m]\u001b[0m \u001b[1;33m+=\u001b[0m \u001b[1;36m1\u001b[0m\u001b[1;33m\u001b[0m\u001b[0m\n\u001b[0;32m     11\u001b[0m     \u001b[1;32mif\u001b[0m \u001b[0mi\u001b[0m \u001b[1;33m%\u001b[0m \u001b[1;36m100\u001b[0m \u001b[1;33m==\u001b[0m \u001b[1;36m0\u001b[0m\u001b[1;33m:\u001b[0m\u001b[1;33m\u001b[0m\u001b[0m\n",
      "\u001b[1;31mKeyboardInterrupt\u001b[0m: "
     ]
    }
   ],
   "source": [
    "# 4) Putting it together: create a function that takes a list of documents\n",
    "# and a vocabulary as arguments, and returns a dataframe with the counts\n",
    "# of words: \n",
    "def create_wordfreq_df(documents, vocabulary):\n",
    "    import pandas as pd\n",
    "    df = pd.DataFrame(0,index=range(len(documents)), columns = range(len(vocabulary)))\n",
    "    for i, chunk in enumerate(chunks):\n",
    "        for word in chunk:\n",
    "            if word in list(df.columns):\n",
    "                df.loc[i, word] += 1\n",
    "    if i % 100 == 0:\n",
    "        print(i, end=' ')\n",
    "        \n",
    "# call the function and check that the resulting dataframe is correct\n",
    "result = create_wordfreq_df(chunks, vocabulary)"
   ]
  },
  {
   "cell_type": "markdown",
   "metadata": {},
   "source": [
    "## Step 6 - Weight word frequency"
   ]
  },
  {
   "cell_type": "code",
   "execution_count": 97,
   "metadata": {},
   "outputs": [],
   "source": [
    "# 5) create a function that adds one to the current cell and takes its log\n",
    "# IF the value in the cell is not zero\n",
    "\n",
    "def add1_log(x):\n",
    "    import numpy as np\n",
    "    if x != 0:\n",
    "        return np.log(x+1)\n",
    "    else:\n",
    "        return 0\n"
   ]
  },
  {
   "cell_type": "code",
   "execution_count": 100,
   "metadata": {},
   "outputs": [
    {
     "data": {
      "text/plain": [
       "0       0.000000\n",
       "1       0.693147\n",
       "2       0.693147\n",
       "3       0.693147\n",
       "4       0.693147\n",
       "5       0.000000\n",
       "6       0.000000\n",
       "7       0.000000\n",
       "8       0.000000\n",
       "9       0.000000\n",
       "10      0.000000\n",
       "11      0.000000\n",
       "12      0.000000\n",
       "13      0.000000\n",
       "14      0.000000\n",
       "15      0.000000\n",
       "16      0.000000\n",
       "17      0.000000\n",
       "18      0.000000\n",
       "19      0.000000\n",
       "20      0.000000\n",
       "21      0.000000\n",
       "22      0.000000\n",
       "23      0.000000\n",
       "24      0.000000\n",
       "25      0.000000\n",
       "26      0.000000\n",
       "27      0.000000\n",
       "28      0.000000\n",
       "29      0.000000\n",
       "          ...   \n",
       "2189    0.693147\n",
       "2190    0.000000\n",
       "2191    0.000000\n",
       "2192    0.000000\n",
       "2193    0.000000\n",
       "2194    0.000000\n",
       "2195    0.000000\n",
       "2196    0.000000\n",
       "2197    0.000000\n",
       "2198    0.000000\n",
       "2199    0.000000\n",
       "2200    0.000000\n",
       "2201    0.000000\n",
       "2202    0.000000\n",
       "2203    0.000000\n",
       "2204    0.000000\n",
       "2205    0.693147\n",
       "2206    1.098612\n",
       "2207    1.386294\n",
       "2208    1.386294\n",
       "2209    1.386294\n",
       "2210    1.098612\n",
       "2211    0.693147\n",
       "2212    0.693147\n",
       "2213    0.000000\n",
       "2214    0.693147\n",
       "2215    0.693147\n",
       "2216    0.693147\n",
       "2217    0.693147\n",
       "2218    0.000000\n",
       "Name: student, Length: 2219, dtype: float64"
      ]
     },
     "execution_count": 100,
     "metadata": {},
     "output_type": "execute_result"
    }
   ],
   "source": [
    "# 6) use the \"applymap\" function of the dataframe to apply the function \n",
    "# above to each cell of the table\n",
    "# df = df.from_csv('./word-by-chunk.csv', encoding= 'utf-8')\n",
    "\n",
    "df_weigh = df.applymap(lambda x: add1_log(x))\n"
   ]
  },
  {
   "cell_type": "code",
   "execution_count": null,
   "metadata": {
    "collapsed": true
   },
   "outputs": [],
   "source": [
    "# 7) check that the numbers in the resulting matrix look accurate;\n",
    "# print the value before and after applying the function above\n",
    "df['student']\n",
    "df_weigh['student']\n"
   ]
  },
  {
   "cell_type": "markdown",
   "metadata": {},
   "source": [
    "## Step 7 - Matrix normalization"
   ]
  },
  {
   "cell_type": "code",
   "execution_count": null,
   "metadata": {
    "collapsed": true
   },
   "outputs": [],
   "source": [
    "# 8) look at the image below; why do you think that we need to normalize our \n",
    "# data before clustering in this particular case? \n",
    "\n",
    "# The scales for the two variables are completely different. One ranges from -4 to 4, the other from -3000 to 4000.\n",
    "# If we clustered this data without normalizing it, the latter feature will overpower any varience in the former. "
   ]
  },
  {
   "cell_type": "markdown",
   "metadata": {},
   "source": [
    "<img src=\"https://i.stack.imgur.com/N2unM.png\" />"
   ]
  },
  {
   "cell_type": "markdown",
   "metadata": {},
   "source": [
    "In general, it's common practice to normalize your data before clustering - so that variables are comparable."
   ]
  },
  {
   "cell_type": "code",
   "execution_count": null,
   "metadata": {
    "collapsed": true
   },
   "outputs": [],
   "source": [
    "# 9) describe how the min-max normalization works:\n",
    "# The minimum value is converted to zero, the maximum value to one, \n",
    "# and the values falling between the two scaled depending on where it is in regards to the minimum and maximum values. "
   ]
  },
  {
   "cell_type": "markdown",
   "metadata": {},
   "source": [
    "<img src=\"https://docs.microsoft.com/en-us/azure/machine-learning/studio-module-reference/media/aml-normalization-minmax.png\" />"
   ]
  },
  {
   "cell_type": "code",
   "execution_count": null,
   "metadata": {
    "collapsed": true
   },
   "outputs": [],
   "source": [
    "# 10) describe how normalizing using a z-score works:\n",
    "# This normalizes the distribution of the data to a normal distribution, with mean = 0 and standard deviation = 1."
   ]
  },
  {
   "cell_type": "markdown",
   "metadata": {},
   "source": [
    "<img src=\"https://cdn-images-1.medium.com/max/1600/1*13XKCXQc7eabfZbRzkvGvA.gif\"/>"
   ]
  },
  {
   "cell_type": "code",
   "execution_count": 37,
   "metadata": {},
   "outputs": [
    {
     "name": "stdout",
     "output_type": "stream",
     "text": [
      "1\n",
      "2\n",
      "3\n"
     ]
    }
   ],
   "source": [
    "# 11) describe how normalizing to unit norm works\n",
    "# This scales the vectors, which in this context is the different features of each datapoint, to have a length of one.\n",
    "# To do this, every entry in the vector is divided by its magnitude. \n"
   ]
  },
  {
   "cell_type": "markdown",
   "metadata": {},
   "source": [
    "Resources: \n",
    "* https://scikit-learn.org/stable/modules/generated/sklearn.preprocessing.Normalizer.html#sklearn.preprocessing.Normalizer\n",
    "* http://mathworld.wolfram.com/NormalVector.html"
   ]
  },
  {
   "cell_type": "markdown",
   "metadata": {},
   "source": [
    "We are going to work with some pre-made normalization functions from sklearn (feel free to skim this page):\n",
    "* https://scikit-learn.org/stable/modules/classes.html#module-sklearn.preprocessing"
   ]
  },
  {
   "cell_type": "code",
   "execution_count": 126,
   "metadata": {},
   "outputs": [
    {
     "name": "stdout",
     "output_type": "stream",
     "text": [
      "0       0.000000\n",
      "1       0.693147\n",
      "2       0.693147\n",
      "3       0.693147\n",
      "4       0.693147\n",
      "5       0.000000\n",
      "6       0.000000\n",
      "7       0.000000\n",
      "8       0.000000\n",
      "9       0.000000\n",
      "10      0.000000\n",
      "11      0.000000\n",
      "12      0.000000\n",
      "13      0.000000\n",
      "14      0.000000\n",
      "15      0.000000\n",
      "16      0.000000\n",
      "17      0.000000\n",
      "18      0.000000\n",
      "19      0.000000\n",
      "20      0.000000\n",
      "21      0.000000\n",
      "22      0.000000\n",
      "23      0.000000\n",
      "24      0.000000\n",
      "25      0.000000\n",
      "26      0.000000\n",
      "27      0.000000\n",
      "28      0.000000\n",
      "29      0.000000\n",
      "          ...   \n",
      "2189    0.693147\n",
      "2190    0.000000\n",
      "2191    0.000000\n",
      "2192    0.000000\n",
      "2193    0.000000\n",
      "2194    0.000000\n",
      "2195    0.000000\n",
      "2196    0.000000\n",
      "2197    0.000000\n",
      "2198    0.000000\n",
      "2199    0.000000\n",
      "2200    0.000000\n",
      "2201    0.000000\n",
      "2202    0.000000\n",
      "2203    0.000000\n",
      "2204    0.000000\n",
      "2205    0.693147\n",
      "2206    1.098612\n",
      "2207    1.386294\n",
      "2208    1.386294\n",
      "2209    1.386294\n",
      "2210    1.098612\n",
      "2211    0.693147\n",
      "2212    0.693147\n",
      "2213    0.000000\n",
      "2214    0.693147\n",
      "2215    0.693147\n",
      "2216    0.693147\n",
      "2217    0.693147\n",
      "2218    0.000000\n",
      "Name: student, Length: 2219, dtype: float64\n",
      "(2219, 5676)\n"
     ]
    }
   ],
   "source": [
    "# 12) since we are working with vectors, apply the Normalizer from \n",
    "# sklearn.preprocessing to our dataframe. Print a few values \n",
    "# before and after to make sure you've applied the normalization\n",
    "from sklearn.preprocessing import Normalizer\n",
    "print(df_weigh['student'])\n",
    "a = list(df_weigh.columns).index('student')\n",
    "transformer = Normalizer().fit(df_weigh)\n",
    "norm_np = pd.DataFrame.from_records(transformer.transform(df_weigh))\n",
    "norm_np[a]\n",
    "print(norm_np.shape)\n"
   ]
  },
  {
   "cell_type": "code",
   "execution_count": 38,
   "metadata": {
    "collapsed": true
   },
   "outputs": [],
   "source": [
    "# 13) create a function that takes a dataframe as argument and where a second\n",
    "# argument is the type of normalization (MinMaxScaler, Normalizer, StandardScaler)\n",
    "# and returns the normalized dataframe\n",
    "from sklearn.preprocessing import MinMaxScaler, Normalizer, StandardScaler\n",
    "\n",
    "def normalize_choice(df, norm):\n",
    "    if norm == 'MinMaxScaler':\n",
    "        scaler = StandardScaler()\n",
    "        return scaler.transform(df)\n",
    "    elif norm == 'Normalizer':\n",
    "        scaler = Normalizer().fit(df)\n",
    "        return scaler.transform(df)\n",
    "    elif norm == 'StandardScaler':\n",
    "        scaler = StandardScaler()\n",
    "        return scaler.transform(df)\n",
    "    else:\n",
    "        print('Input type of normalization: MinMaxScaler, Normalizer, or StandardScaler')\n",
    "\n",
    "# the output is a numpy array? So is the input for the deviation vector a numpy array?\n",
    "# Do we change this back into a dataframe at some point? If so, where and how?\n"
   ]
  },
  {
   "cell_type": "markdown",
   "metadata": {},
   "source": [
    "## Step 8 - Deviation Vectors"
   ]
  },
  {
   "cell_type": "markdown",
   "metadata": {},
   "source": [
    "<img src=\"https://www.dropbox.com/s/9f73r7pk7bi7vh9/deviation_vectors.png?dl=1\" />"
   ]
  },
  {
   "cell_type": "code",
   "execution_count": 39,
   "metadata": {},
   "outputs": [
    {
     "name": "stdout",
     "output_type": "stream",
     "text": [
      "2219\n"
     ]
    }
   ],
   "source": [
    "# 14) compute the sum of the vectors\n",
    "# I'm using df to practice here, because the outputs of the previous function is a numpy array...\n",
    "# Will have to add a line to convert when we put the functions together. \n",
    "sum_vec = df.sum(axis = 1)\n",
    "print(len(df.column))"
   ]
  },
  {
   "cell_type": "code",
   "execution_count": 44,
   "metadata": {
    "collapsed": true
   },
   "outputs": [],
   "source": [
    "# 15) normalize the vector (find its average)\n",
    "avrg_vec = sum_vec/len(df.columns)\n"
   ]
  },
  {
   "cell_type": "code",
   "execution_count": 125,
   "metadata": {
    "collapsed": true
   },
   "outputs": [],
   "source": [
    "# 16) take each vector and subtract its components along v_avg\n",
    "dev_vec = df - avrg_vec"
   ]
  },
  {
   "cell_type": "code",
   "execution_count": null,
   "metadata": {
    "collapsed": true
   },
   "outputs": [],
   "source": [
    "# 17) put the code above in a function that takes in a dataframe as an argument\n",
    "# and computes deviation vectors of each row (=document)\n",
    "def calc_deviation_vec(df):\n",
    "    sum_vec = df.sum(axis = 1)\n",
    "    avrg_vec = sum_vec/len(df.columns)\n",
    "    return (df - avrg_vec)"
   ]
  },
  {
   "cell_type": "markdown",
   "metadata": {},
   "source": [
    "# WEEK 7 - CLUSTERING"
   ]
  },
  {
   "cell_type": "markdown",
   "metadata": {},
   "source": [
    "## Step 9 - Clustering"
   ]
  },
  {
   "cell_type": "markdown",
   "metadata": {},
   "source": [
    "## Step 10 - Visualizing the results"
   ]
  },
  {
   "cell_type": "markdown",
   "metadata": {},
   "source": [
    "## Final Step - Putting it all together: "
   ]
  },
  {
   "cell_type": "code",
   "execution_count": null,
   "metadata": {
    "collapsed": true
   },
   "outputs": [],
   "source": [
    "# in python code, our goal is to recreate the steps above as functions\n",
    "# so that we can just one line to run topic modeling on a list of \n",
    "# documents: \n",
    "def ExtractTopicsVSM(documents, numTopics):\n",
    "    ''' this functions takes in a list of documents (strings), \n",
    "        runs topic modeling (as implemented by Sherin, 2013)\n",
    "        and returns the clustering results, the matrix used \n",
    "        for clustering a visualization '''\n",
    "    \n",
    "    # step 2: clean up the documents\n",
    "    documents = clean_list_of_documents(documents)\n",
    "    \n",
    "    # step 3: let's build the vocabulary of these docs\n",
    "    vocabulary = get_vocabulary(documents)\n",
    "    \n",
    "    # step 4: we build our list of 100-words overlapping fragments\n",
    "    documents = flatten_and_overlap(documents)\n",
    "    \n",
    "    # step 5: we convert the chunks into a matrix\n",
    "    matrix = docs_by_words_matrix(documents, vocabulary)\n",
    "    \n",
    "    # step 6: we weight the frequency of words (count = 1 + log(count))\n",
    "    matrix = one_plus_log_mat(matrix, documents, vocabulary)\n",
    "    \n",
    "    # step 7: we normalize the matrix\n",
    "    matrix = normalize(matrix)\n",
    "    \n",
    "    # step 8: we compute deviation vectors\n",
    "    matrix = transform_deviation_vectors(matrix, documents)\n",
    "    \n",
    "    # step 9: we apply a clustering algorithm to find topics\n",
    "    results_clustering = cluster_matrix(matrix)\n",
    "    \n",
    "    # step 10: we create a visualization of the topics\n",
    "    visualization = visualize_clusters(results_clustering, vocabulary)\n",
    "    \n",
    "    # finally, we return the clustering results, the matrix, and a visualization\n",
    "    return results_clustering, matrix, visualization"
   ]
  }
 ],
 "metadata": {
  "kernelspec": {
   "display_name": "Python 3",
   "language": "python",
   "name": "python3"
  },
  "language_info": {
   "codemirror_mode": {
    "name": "ipython",
    "version": 3
   },
   "file_extension": ".py",
   "mimetype": "text/x-python",
   "name": "python",
   "nbconvert_exporter": "python",
   "pygments_lexer": "ipython3",
   "version": "3.6.3"
  },
  "varInspector": {
   "cols": {
    "lenName": 16,
    "lenType": 16,
    "lenVar": 40
   },
   "kernels_config": {
    "python": {
     "delete_cmd_postfix": "",
     "delete_cmd_prefix": "del ",
     "library": "var_list.py",
     "varRefreshCmd": "print(var_dic_list())"
    },
    "r": {
     "delete_cmd_postfix": ") ",
     "delete_cmd_prefix": "rm(",
     "library": "var_list.r",
     "varRefreshCmd": "cat(var_dic_list()) "
    }
   },
   "types_to_exclude": [
    "module",
    "function",
    "builtin_function_or_method",
    "instance",
    "_Feature"
   ],
   "window_display": false
  }
 },
 "nbformat": 4,
 "nbformat_minor": 2
}
